{
 "cells": [
  {
   "cell_type": "code",
   "execution_count": 1,
   "metadata": {},
   "outputs": [],
   "source": [
    "%matplotlib inline\n",
    "import matplotlib\n",
    "import matplotlib.pyplot as plt\n",
    "import numpy as np\n",
    "from sklearn.externals import joblib\n",
    "from sklearn.metrics import classification_report, confusion_matrix\n",
    "from sklearn.datasets.mldata import fetch_mldata"
   ]
  },
  {
   "cell_type": "code",
   "execution_count": 2,
   "metadata": {},
   "outputs": [],
   "source": [
    "mnist = fetch_mldata('mnist-original', data_home='D:\\HK9\\TVu_RTC\\CKy\\HW')\n",
    "X, y = mnist[\"data\"], mnist[\"target\"]\n",
    "X = X / 255"
   ]
  },
  {
   "cell_type": "code",
   "execution_count": 3,
   "metadata": {},
   "outputs": [],
   "source": [
    "X0 = X[np.where(y == 0)[0]]\n",
    "X1 = X[np.where(y == 1)[0]]\n",
    "X = np.concatenate((X0, X1), axis=0)\n",
    "\n",
    "y0 = np.zeros(X0.shape[0])\n",
    "y1 = np.ones(X1.shape[0])\n",
    "y = np.concatenate((y0, y1), axis=0)\n",
    "\n",
    "mix = np.arange(len(y))\n",
    "np.random.shuffle(mix)\n",
    "X = X[mix,:]\n",
    "y= y[mix]"
   ]
  },
  {
   "cell_type": "code",
   "execution_count": 4,
   "metadata": {},
   "outputs": [],
   "source": [
    "m = 12000\n",
    "m_test = X.shape[0] - m\n",
    "x_train, x_test = X[:m].T, X[m:].T\n",
    "y_train, y_test = y[:m].T, y[m:].T"
   ]
  },
  {
   "cell_type": "code",
   "execution_count": 5,
   "metadata": {},
   "outputs": [
    {
     "data": {
      "image/png": "[encoded data removed]",
      "text/plain": [
       "<Figure size 432x288 with 1 Axes>"
      ]
     },
     "metadata": {},
     "output_type": "display_data"
    },
    {
     "name": "stdout",
     "output_type": "stream",
     "text": [
      "0.0\n"
     ]
    }
   ],
   "source": [
    "i = 0\n",
    "plt.imshow(x_train[:,i].reshape(28,28), cmap = matplotlib.cm.binary)\n",
    "plt.axis(\"off\")\n",
    "plt.show()\n",
    "print(y_train[i])"
   ]
  },
  {
   "cell_type": "code",
   "execution_count": 6,
   "metadata": {},
   "outputs": [],
   "source": [
    "def sigmoid(z):\n",
    "    s = 1 / (1 + np.exp(-z))\n",
    "    return s"
   ]
  },
  {
   "cell_type": "code",
   "execution_count": 7,
   "metadata": {},
   "outputs": [],
   "source": [
    "def compute_loss(Y, Y_hat):\n",
    "#     print(Y.shape)\n",
    "    m = Y.shape[0]\n",
    "    L = -(1./m) * ( np.sum( np.multiply(np.log(Y_hat),Y) ) + np.sum( np.multiply(np.log(1-Y_hat),(1-Y)) ) )\n",
    "    return L"
   ]
  },
  {
   "cell_type": "code",
   "execution_count": 8,
   "metadata": {},
   "outputs": [
    {
     "name": "stdout",
     "output_type": "stream",
     "text": [
      "Epoch 0 cost:  0.6852110109322346\n",
      "Epoch 100 cost:  0.11876110224523723\n",
      "Epoch 200 cost:  0.06959907886007818\n",
      "Epoch 300 cost:  0.05121309472638094\n",
      "Epoch 400 cost:  0.041425848701468995\n",
      "Epoch 500 cost:  0.03528072157119875\n",
      "Epoch 600 cost:  0.031031323914706508\n",
      "Epoch 700 cost:  0.02790014103861183\n",
      "Epoch 800 cost:  0.02548670766159977\n",
      "Epoch 900 cost:  0.023562989312060988\n",
      "Epoch 1000 cost:  0.021989220035470512\n",
      "Epoch 1100 cost:  0.020674763350264014\n",
      "Epoch 1200 cost:  0.019558157282337015\n",
      "Epoch 1300 cost:  0.018596183616038535\n",
      "Epoch 1400 cost:  0.01775752502681366\n",
      "Epoch 1500 cost:  0.017018905782329515\n",
      "Epoch 1600 cost:  0.0163626484556085\n",
      "Epoch 1700 cost:  0.01577507398681317\n",
      "Epoch 1800 cost:  0.015245423086439553\n",
      "Epoch 1900 cost:  0.01476511046183936\n",
      "Final cost: 0.014331386344788019\n"
     ]
    }
   ],
   "source": [
    "learning_rate = 0.01\n",
    "\n",
    "X = x_train\n",
    "Y = y_train\n",
    "\n",
    "n_x = X.shape[0]\n",
    "m = X.shape[1]\n",
    "\n",
    "W = np.random.randn(n_x, 1) * 0.01\n",
    "b = np.zeros((1, 1))\n",
    "\n",
    "for i in range(2000):\n",
    "    Z = np.matmul(W.T, X) + b\n",
    "    A = sigmoid(Z)\n",
    "\n",
    "    cost = compute_loss(Y, A)\n",
    "\n",
    "    dW = (1/m) * np.matmul(X, (A-Y).T)\n",
    "    db = (1/m) * np.sum(A-Y, axis=1, keepdims=True)\n",
    "\n",
    "    W = W - learning_rate * dW\n",
    "    b = b - learning_rate * db\n",
    "\n",
    "    if (i % 100 == 0):\n",
    "        print(\"Epoch\", i, \"cost: \", cost)\n",
    "\n",
    "print(\"Final cost:\", cost)"
   ]
  },
  {
   "cell_type": "code",
   "execution_count": 9,
   "metadata": {},
   "outputs": [
    {
     "data": {
      "text/plain": [
       "['digits.pkl']"
      ]
     },
     "execution_count": 9,
     "metadata": {},
     "output_type": "execute_result"
    }
   ],
   "source": [
    "joblib.dump(W,\"digits.pkl\", compress=3)"
   ]
  },
  {
   "cell_type": "code",
   "execution_count": 10,
   "metadata": {},
   "outputs": [
    {
     "name": "stdout",
     "output_type": "stream",
     "text": [
      "[[1324    0]\n",
      " [   3 1453]]\n"
     ]
    }
   ],
   "source": [
    "Z = np.matmul(W.T, x_test) + b\n",
    "A = sigmoid(Z)\n",
    "\n",
    "y_predict = np.where(A < 0.5, 0, 1)\n",
    "labels = np.where(y_test < 0.5, 0, 1)\n",
    "\n",
    "print(confusion_matrix(y_predict.T, labels))"
   ]
  },
  {
   "cell_type": "code",
   "execution_count": 11,
   "metadata": {},
   "outputs": [
    {
     "name": "stdout",
     "output_type": "stream",
     "text": [
      "real:  1.0 , predict:  1\n"
     ]
    },
    {
     "data": {
      "image/png": "[encoded data removed]",
      "text/plain": [
       "<Figure size 432x288 with 1 Axes>"
      ]
     },
     "metadata": {},
     "output_type": "display_data"
    }
   ],
   "source": [
    "i = 4\n",
    "plt.imshow(x_test[:,i].reshape(28, 28))\n",
    "print('real: ',y_test[i],', predict: ',y_predict[:,i][0])"
   ]
  },
  {
   "cell_type": "code",
   "execution_count": 12,
   "metadata": {},
   "outputs": [
    {
     "name": "stdout",
     "output_type": "stream",
     "text": [
      "[[1324    0]\n",
      " [   3 1453]]\n"
     ]
    }
   ],
   "source": [
    "y_predict = np.where(A < 0.5, 0, 1)\n",
    "labels = np.where(y_test < 0.5, 0, 1)\n",
    "\n",
    "print(confusion_matrix(y_predict.T, labels))"
   ]
  },
  {
   "cell_type": "code",
   "execution_count": null,
   "metadata": {},
   "outputs": [],
   "source": []
  }
 ],
 "metadata": {
  "kernelspec": {
   "display_name": "Python 3",
   "language": "python",
   "name": "python3"
  },
  "language_info": {
   "codemirror_mode": {
    "name": "ipython",
    "version": 3
   },
   "file_extension": ".py",
   "mimetype": "text/x-python",
   "name": "python",
   "nbconvert_exporter": "python",
   "pygments_lexer": "ipython3",
   "version": "3.6.5"
  }
 },
 "nbformat": 4,
 "nbformat_minor": 2
}
