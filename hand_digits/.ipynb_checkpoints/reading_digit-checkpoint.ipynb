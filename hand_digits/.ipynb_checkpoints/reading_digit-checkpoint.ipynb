{
 "cells": [
  {
   "cell_type": "code",
   "execution_count": 9,
   "metadata": {},
   "outputs": [],
   "source": [
    "%matplotlib inline\n",
    "import matplotlib\n",
    "import matplotlib.pyplot as plt\n",
    "import cv2\n",
    "import numpy as np\n",
    "\n",
    "image = cv2.imread(\"hd2.jpg\")\n",
    "\n",
    "height, width = image.shape[:2]\n",
    "scaledWidth = 900\n",
    "scaledHeight = int((scaledWidth * height) / width)\n",
    "image = cv2.resize(image, (scaledWidth, scaledHeight), fx= 0.5, fy=0.5, interpolation= cv2.INTER_AREA)\n",
    "\n",
    "im_gray = cv2.cvtColor(image,cv2.COLOR_BGR2GRAY)\n",
    "im_gray = cv2.GaussianBlur(im_gray,(5,5),2)\n",
    "\n",
    "\n",
    "ret, im_th = cv2.threshold(im_gray,94,200,cv2.THRESH_BINARY_INV)\n",
    "ctrs,_ = cv2.findContours(im_th.copy(),cv2.RETR_EXTERNAL,cv2.CHAIN_APPROX_SIMPLE)\n",
    "rects =[cv2.boundingRect(ctr) for ctr in ctrs]\n"
   ]
  },
  {
   "cell_type": "code",
   "execution_count": 10,
   "metadata": {},
   "outputs": [
    {
     "data": {
      "image/png": "[encoded data removed]",
      "text/plain": [
       "<Figure size 432x288 with 1 Axes>"
      ]
     },
     "metadata": {
      "needs_background": "light"
     },
     "output_type": "display_data"
    },
    {
     "name": "stdout",
     "output_type": "stream",
     "text": [
      "[[  0   0   0   0   0   0   0   0   0   0   0   0   0   0   0   0   0   0\n",
      "    0   0   0   0   0   0   0   0   0   0   0   0   0   0   0   0   0   0\n",
      "    0   0   0   0   0   0   0   0   0   0   0   0   0   0   0   0   0   0\n",
      "    0   0   0   0   0   0   0   0   0   0   0   0   0   0   0   0   0   0\n",
      "    0   0   0   0   0   0   0   0   0   0   0   0   0   0   0   0   0   0\n",
      "    0   0   0   0   0   0   0   0   0   0   0   0   0   0   0   0   0   0\n",
      "    0   0   0   0   0   0   0   0   0   0   0   0   0   0   0   0   0   0\n",
      "    0   0   0   0   0   0   0   0   0   0   0   0   0   0   0   0   0   0\n",
      "    0   0   0   0   0   0  16 153 171 164  67   0   0   0   0   0   0   0\n",
      "    0   0   0   0   0   0   0   0   0   0   0   0   0   0   0   0 130 168\n",
      "  171 164 198 168 118  30   0   0   0   0   0   0   0   0   0   0   0   0\n",
      "    0   0   0   0   0   0   0  41 200 168  53 122 198 168 154 193  67   0\n",
      "    0   0   0   0   0   0   0   0   0   0   0   0   0   0   0   0   0 116\n",
      "  200  43   0   0  40  82 154 193 185   5   0   0   0   0   0   0   0   0\n",
      "    0   0   0   0   0   0   0   0   2 184 148   0   0   0   0   0   1 105\n",
      "  199  37   0   0   0   0   0   0   0   0   0   0   0   0   0   0   0   0\n",
      "   26 199  72   0   0   0   0   0   0  11 199  44   0   0   0   0   0   0\n",
      "    0   0   0   0   0   0   0   0   0   0  44 199  21   0   0   0   0   0\n",
      "    0   0 198  44   0   0   0   0   0   0   0   0   0   0   0   0   0   0\n",
      "    0   0  44 183   0   0   0   0   0   0   0   0 198  44   0   0   0   0\n",
      "    0   0   0   0   0   0   0   0   0   0   0   0  44 168   0   0   0   0\n",
      "    0   0   0   0 198  44   0   0   0   0   0   0   0   0   0   0   0   0\n",
      "    0   0   0   0  44 168   0   0   0   0   0   0   0   0 198  44   0   0\n",
      "    0   0   0   0   0   0   0   0   0   0   0   0   0   0  44 168   0   0\n",
      "    0   0   0   0   0   0 198  44   0   0   0   0   0   0   0   0   0   0\n",
      "    0   0   0   0   0   0  44 193  10   0   0   0   0   0   0   0 198  44\n",
      "    0   0   0   0   0   0   0   0   0   0   0   0   0   0   0   0  38 193\n",
      "   64   0   0   0   0   0   0  34 200  44   0   0   0   0   0   0   0   0\n",
      "    0   0   0   0   0   0   0   0   4 179 128   0   0   0   0   0   0  86\n",
      "  200  17   0   0   0   0   0   0   0   0   0   0   0   0   0   0   0   0\n",
      "    0 117 195  32   0   0   0   0   8 173 165   0   0   0   0   0   0   0\n",
      "    0   0   0   0   0   0   0   0   0   0   0  45 195 150  17   0   0   0\n",
      "  112 173  80   0   0   0   0   0   0   0   0   0   0   0   0   0   0   0\n",
      "    0   0   0   0 147 156 187 116 102 125 196 173   5   0   0   0   0   0\n",
      "    0   0   0   0   0   0   0   0   0   0   0   0   0   0  14 156 187 126\n",
      "  141 137 196  43   0   0   0   0   0   0   0   0   0   0   0   0   0   0\n",
      "    0   0   0   0   0   0   0   1  64 126 141 137  52   0   0   0   0   0\n",
      "    0   0   0   0   0   0   0   0   0   0   0   0   0   0   0   0   0   0\n",
      "    0   0   0   0   0   0   0   0   0   0   0   0   0   0   0   0   0   0\n",
      "    0   0   0   0   0   0   0   0   0   0   0   0   0   0   0   0   0   0\n",
      "    0   0   0   0   0   0   0   0   0   0   0   0   0   0   0   0   0   0\n",
      "    0   0   0   0   0   0   0   0   0   0   0   0   0   0   0   0   0   0\n",
      "    0   0   0   0   0   0   0   0   0   0   0   0   0   0   0   0   0   0\n",
      "    0   0   0   0   0   0   0   0   0   0]]\n"
     ]
    },
    {
     "data": {
      "image/png": "[encoded data removed]",
      "text/plain": [
       "<Figure size 432x288 with 1 Axes>"
      ]
     },
     "metadata": {
      "needs_background": "light"
     },
     "output_type": "display_data"
    },
    {
     "name": "stdout",
     "output_type": "stream",
     "text": [
      "[[  0   0   0   0   0   0   0   0   0   0   0   0   0   0   0   0   0   0\n",
      "    0   0   0   0   0   0   0   0   0   0   0   0   0   0   0   0   0   0\n",
      "    0   0   0   0   0   0   0   0   0   0   0   0   0   0   0   0   0   0\n",
      "    0   0   0   0   0   0   0   0   0   0   0   0   0   0   0   0   0   0\n",
      "    0   0   0   0   0   0   0   0   0   0   0   0   0   0   0   0   0   0\n",
      "    0   0   0   0   0   0   0   0   0   0   0   0   0   0   0   0   0   0\n",
      "    0   0   0   0   0   0   0   0   0   0   0   0   0   0   0   0   0   0\n",
      "    0   0   0   0   0   0   0   0   0   0   0   0   0   0   0   0   0   0\n",
      "    0   0   0   0   0   0   0   0   8 131 162 161 157  64   0   0   0   0\n",
      "    0   0   0   0   0   0   0   0   0   0   0   0   0   0   0   0   0   0\n",
      "  132 131 162 161 157 178   6   0   0   0   0   0   0   0   0   0   0   0\n",
      "    0   0   0   0   0   0   0   0   0  99 137 104   4   0 109 178   6   0\n",
      "    0   0   0   0   0   0   0   0   0   0   0   0   0   0   0   0   0   0\n",
      "   44 169 137   1   0   0 109 178   4   0   0   0   0   0   0   0   0   0\n",
      "    0   0   0   0   0   0   0   0   0   0 149 169   7   0   0   0  16 178\n",
      "   41   0   0   0   0   0   0   0   0   0   0   0   0   0   0   0   0   0\n",
      "    0   1 178  51   0   0   0   0   0 151  64   0   0   0   0   0   0   0\n",
      "    0   0   0   0   0   0   0   0   0   0   0  29 178   0   0   0   0   0\n",
      "    0 120  64   0   0   0   0   0   0   0   0   0   0   0   0   0   0   0\n",
      "    0   0   0  62 152   0   0   0   0   0   0 120  64   0   0   0   0   0\n",
      "    0   0   0   0   0   0   0   0   0   0   0   0   0  64 120   0   0   0\n",
      "    0   0   0 120  64   0   0   0   0   0   0   0   0   0   0   0   0   0\n",
      "    0   0   0   0   0  64 120   0   0   0   0   0   0 139  64   0   0   0\n",
      "    0   0   0   0   0   0   0   0   0   0   0   0   0   0   0  64 128   0\n",
      "    0   0   0   0   0 159  45   0   0   0   0   0   0   0   0   0   0   0\n",
      "    0   0   0   0   0   0   0  51 158   0   0   0   0   0   4 176  28   0\n",
      "    0   0   0   0   0   0   0   0   0   0   0   0   0   0   0   0   0  24\n",
      "  180   4   0   0   0   0  16 176   2   0   0   0   0   0   0   0   0   0\n",
      "    0   0   0   0   0   0   0   0   0   1 180  77   0   0   0   0  51 163\n",
      "    0   0   0   0   0   0   0   0   0   0   0   0   0   0   0   0   0   0\n",
      "    0   0 123 184  32   0   0   0 103 131   0   0   0   0   0   0   0   0\n",
      "    0   0   0   0   0   0   0   0   0   0   0   0  27 184 166   6   0   1\n",
      "  161  81   0   0   0   0   0   0   0   0   0   0   0   0   0   0   0   0\n",
      "    0   0   0   0   0  62 166 134  28 100 161  31   0   0   0   0   0   0\n",
      "    0   0   0   0   0   0   0   0   0   0   0   0   0   0   0   0 112 134\n",
      "  140 135 133   0   0   0   0   0   0   0   0   0   0   0   0   0   0   0\n",
      "    0   0   0   0   0   0   0   0   3  98 140 135  21   0   0   0   0   0\n",
      "    0   0   0   0   0   0   0   0   0   0   0   0   0   0   0   0   0   0\n",
      "    0   0   0   0   0   0   0   0   0   0   0   0   0   0   0   0   0   0\n",
      "    0   0   0   0   0   0   0   0   0   0   0   0   0   0   0   0   0   0\n",
      "    0   0   0   0   0   0   0   0   0   0   0   0   0   0   0   0   0   0\n",
      "    0   0   0   0   0   0   0   0   0   0   0   0   0   0   0   0   0   0\n",
      "    0   0   0   0   0   0   0   0   0   0   0   0   0   0   0   0   0   0\n",
      "    0   0   0   0   0   0   0   0   0   0]]\n"
     ]
    },
    {
     "data": {
      "image/png": "[encoded data removed]",
      "text/plain": [
       "<Figure size 432x288 with 1 Axes>"
      ]
     },
     "metadata": {
      "needs_background": "light"
     },
     "output_type": "display_data"
    },
    {
     "name": "stdout",
     "output_type": "stream",
     "text": [
      "[[  0   0   0   0   0   0   0   0   0   0   0   0   0   0   0   0   0   0\n",
      "    0   0   0   0   0   0   0   0   0   0   0   0   0   0   0   0   0   0\n",
      "    0   0   0   0   0   0   0   0   0   0   0   0   0   0   0   0   0   0\n",
      "    0   0   0   0   0   0   0   0   0   0   0   0   0   0   0   0   0   0\n",
      "    0   0   0   0   0   0   0   0   0   0   0   0   0   0   0   0   0   0\n",
      "    0   0   0   0   0   0   0   0   0   0   0   0   0   0   0   0   0   0\n",
      "    0   0   0   0   0   0   0   0   0   0   0   0   0   0   0   0   0   0\n",
      "    0   0   0   0   0   0   0   0   0   0   0   0   0   0   0   0   0   0\n",
      "    0   0   0   0   0   0   0   0   0   0  94  45   0   0   0   0   0   0\n",
      "    0   0   0   0   0   0   0   0   0   0   0   0   0   0   0   0   0   0\n",
      "    0  16 193  90   0   0   0   0   0   0   0   0   0   0   0   0   0   0\n",
      "    0   0   0   0   0   0   0   0   0   0   0  79 200  90   0   0   0   0\n",
      "    0   0   0   0   0   0   0   0   0   0   0   0   0   0   0   0   0   0\n",
      "    0   0   9 173 200  90   0   0   0   0   0   0   0   0   0   0   0   0\n",
      "    0   0   0   0   0   0   0   0   0   0   0   0 117 173 200  90   0   0\n",
      "    0   0   0   0   0   0   0   0   0   0   0   0   0   0   0   0   0   0\n",
      "    0   0   0  68 188 150 148  90   0   0   0   0   0   0   0   0   0   0\n",
      "    0   0   0   0   0   0   0   0   0   0   0   0  63 189 188  38 131  90\n",
      "    0   0   0   0   0   0   0   0   0   0   0   0   0   0   0   0   0   0\n",
      "    0   0   0  35 182 189  54   0 131  90   0   0   0   0   0   0   0   0\n",
      "    0   0   0   0   0   0   0   0   0   0   0   0  34 188 182  68   0   0\n",
      "  131  90   0   0   0   0   0   0   0   0   0   0   0   0   0   0   0   0\n",
      "    0   0   0   0  84 188  87   0   0   0 131  90   0   0   0   0   0   0\n",
      "    0   0   0   0   0   0   0   0   0   0   0   0   0   0  84  98   0   0\n",
      "    0   0 131  90   0   0   0   0   0   0   0   0   0   0   0   0   0   0\n",
      "    0   0   0   0   0   0   0   0   0   0   0   0 131  90   0   0   0   0\n",
      "    0   0   0   0   0   0   0   0   0   0   0   0   0   0   0   0   0   0\n",
      "    0   0   0   0 131  90   0   0   0   0   0   0   0   0   0   0   0   0\n",
      "    0   0   0   0   0   0   0   0   0   0   0   0   0   0 131  90   0   0\n",
      "    0   0   0   0   0   0   0   0   0   0   0   0   0   0   0   0   0   0\n",
      "    0   0   0   0   0   0 131  90   0   0   0   0   0   0   0   0   0   0\n",
      "    0   0   0   0   0   0   0   0   0   0   0   0   0   0   0   0 131 106\n",
      "    0   0   0   0   0   0   0   0   0   0   0   0   0   0   0   0   0   0\n",
      "    0   0  28  97  78  69  69  69 141 150  69  69  66  15   0   0   0   0\n",
      "    0   0   0   0   0   0   0   0   0   0   0   0  52 124 142 152 152 152\n",
      "  152 152 152 152 152  57   0   0   0   0   0   0   0   0   0   0   0   0\n",
      "    0   0   0   0  52 124 142 152 152 152 152 152 152 152 152  57   0   0\n",
      "    0   0   0   0   0   0   0   0   0   0   0   0   0   0   0   0   0   0\n",
      "    0   0   0   0   0   0   0   0   0   0   0   0   0   0   0   0   0   0\n",
      "    0   0   0   0   0   0   0   0   0   0   0   0   0   0   0   0   0   0\n",
      "    0   0   0   0   0   0   0   0   0   0   0   0   0   0   0   0   0   0\n",
      "    0   0   0   0   0   0   0   0   0   0   0   0   0   0   0   0   0   0\n",
      "    0   0   0   0   0   0   0   0   0   0   0   0   0   0   0   0   0   0\n",
      "    0   0   0   0   0   0   0   0   0   0]]\n"
     ]
    },
    {
     "data": {
      "image/png": "[encoded data removed]",
      "text/plain": [
       "<Figure size 432x288 with 1 Axes>"
      ]
     },
     "metadata": {
      "needs_background": "light"
     },
     "output_type": "display_data"
    },
    {
     "name": "stdout",
     "output_type": "stream",
     "text": [
      "[[  0   0   0   0   0   0   0   0   0   0   0   0   0   0   0   0   0   0\n",
      "    0   0   0   0   0   0   0   0   0   0   0   0   0   0   0   0   0   0\n",
      "    0   0   0   0   0   0   0   0   0   0   0   0   0   0   0   0   0   0\n",
      "    0   0   0   0   0   0   0   0   0   0   0   0   0   0   0   0   0   0\n",
      "    0   0   0   0   0   0   0   0   0   0   0   0   0   0   0   0   0   0\n",
      "    0   0   0   0   0   0   0   0   0   0   0   0   0   0   0   0   0   0\n",
      "    0   0   0   0   0   0   0   0   0   0   0   0   0   0   0   0   0   0\n",
      "    0   0   0   0   0   0   0   0   0   0   0   0   0   0   0   0   0   0\n",
      "    0   0   0   0   0   0   0   0   0   0   0 101   3   0   0   0   0   0\n",
      "    0   0   0   0   0   0   0   0   0   0   0   0   0   0   0   0   0   0\n",
      "    0   0   0 181   5   0   0   0   0   0   0   0   0   0   0   0   0   0\n",
      "    0   0   0   0   0   0   0   0   0   0   0   0  40 200   5   0   0   0\n",
      "    0   0   0   0   0   0   0   0   0   0   0   0   0   0   0   0   0   0\n",
      "    0   0   0   0 114 200   5   0   0   0   0   0   0   0   0   0   0   0\n",
      "    0   0   0   0   0   0   0   0   0   0   0   0   0  20 144 198   5   0\n",
      "    0   0   0   0   0   0   0   0   0   0   0   0   0   0   0   0   0   0\n",
      "    0   0   0   0   0 115 144 146   5   0   0   0   0   0   0   0   0   0\n",
      "    0   0   5   0   0   0   0   0   0   0   0   0   0   0  20 145  51 145\n",
      "    5   0   0   0   0   0   0   0   0   0   0   0   5   0   0   0   0   0\n",
      "    0   0   0   0   0   0 112 145   1 145   5   0   0   0   0   0   0   0\n",
      "    0   0   0   0  22   0   0   0   0   0   0   0   0   0   0  53 128  58\n",
      "    0 145   5   0   0   0   0   0   0   0   0   0   0   0  57   0   0   0\n",
      "    0   0   0   0   0   0  39 152 128   0   0 145   5   0   0   0   0   0\n",
      "    0   0   0   0   0   0  57   0   0   0   0   0   0   0   0  61 149 152\n",
      "   12   0   0 145   5   0   0   0   0   0   0   0   0   0   0   0  57   0\n",
      "    0   0   0   0   0   0  47 142 149  20   0   0   0 145   5   0   0   0\n",
      "    0   0   0   0   0   0   0   0  57   0   0   0   0   0   0   0  47 142\n",
      "   12   0   0   0   0 149   5   0   0   0   0   0   0   0   0   0   0   0\n",
      "   50   0   0   0   0   0   0   0   0   0   0   0   0   0   0 151   4   0\n",
      "    0   0   0   0   0   0   0   0   0   0  31   0   0   0   0   0   0   0\n",
      "    0   0   0   0   0   0   0 153   0   0   0   0   0   0   0   0   0   0\n",
      "    0   0   4   0   0   0   0   0   0   0   0  35  71  71  71  71  61 153\n",
      "    0   0   0   0   0   0   0   0   0   0   0   0   0   0   0   0   0   0\n",
      "    0   0   0  35  71  71  71  71  95 147 146  98  28   1   0   0   0   0\n",
      "    0   0   0   0   0   0   0   0   0   0   0   0   0  30  61  61  61  66\n",
      "   95 146 146  98 123  35   0   0   0   0   0   0   0   0   0   0   0   0\n",
      "    0   0   0   0   0   0   0   0   0   0   0   0   7  63 123  35   0   0\n",
      "    0   0   0   0   0   0   0   0   0   0   0   0   0   0   0   0   0   0\n",
      "    0   0   0   0   0   0   0   0   0   0   0   0   0   0   0   0   0   0\n",
      "    0   0   0   0   0   0   0   0   0   0   0   0   0   0   0   0   0   0\n",
      "    0   0   0   0   0   0   0   0   0   0   0   0   0   0   0   0   0   0\n",
      "    0   0   0   0   0   0   0   0   0   0   0   0   0   0   0   0   0   0\n",
      "    0   0   0   0   0   0   0   0   0   0   0   0   0   0   0   0   0   0\n",
      "    0   0   0   0   0   0   0   0   0   0]]\n"
     ]
    },
    {
     "data": {
      "image/png": "[encoded data removed]",
      "text/plain": [
       "<Figure size 432x288 with 1 Axes>"
      ]
     },
     "metadata": {
      "needs_background": "light"
     },
     "output_type": "display_data"
    },
    {
     "name": "stdout",
     "output_type": "stream",
     "text": [
      "[[  0   0   0   0   0   0   0   0   0   0   0   0   0   0   0   0   0   0\n",
      "    0   0   0   0   0   0   0   0   0   0   0   0   0   0   0   0   0   0\n",
      "    0   0   0   0   0   0   0   0   0   0   0   0   0   0   0   0   0   0\n",
      "    0   0   0   0   0   0   0   0   0   0   0   0   0   0   0   0   0   0\n",
      "    0   0   0   0   0   0   0   0   0   0   0   0   0   0   0   0   0   0\n",
      "    0   0   0   0   0   0   0   0   0   0   0   0   0   0   0   0   0   0\n",
      "    0   0   0   0   0   0   0   0   0   0   0   0   0   0   0   0   0   0\n",
      "    0   0   0   0   0   0   0   0   0   0   0   0   0   0   0   0   0   0\n",
      "    0   0   0   0   0   0   0   0   0   5  88 138 158 158 158 148  62   0\n",
      "    0   0   0   0   0   0   0   0   0   0   0   0   0   0   0   0  24   8\n",
      "    5 150 194 138 158 158 158 148 194 133   5   0   0   0   0   0   0   0\n",
      "    0   0   0   0   0   2  84 161 200 127 127 188 194 127 102 102 102 122\n",
      "  194 193 100   0   0   0   0   0   0   0   0   0   0   0   8 145 190 161\n",
      "  200 127 195 188  48   0   0   0   0   0  37 193 193  35   0   0   0   0\n",
      "    0   0   0   0   0   0 127 175 190 114  42  25 195  60   0   0   0   0\n",
      "    0   0   0  76 193  88   0   0   0   0   0   0   0   0   0  34 199 175\n",
      "   34   0   0   0  15   0   0   0   0   0   0   0   0   1 167  88   0   0\n",
      "    0   0   0   0   0   0   0 105 199  57   0   0   0   0   0   0   0   0\n",
      "    0   0   0   0   0   0 140  88   0   0   0   0   0   0   0   0   0 161\n",
      "  161   0   0   0   0   0   0   0   0   0   0   0   0   0   0   0 140  88\n",
      "    0   0   0   0   0   0   0   0  11 195  99   0   0   0   0   0   0   0\n",
      "    0   0   0   0   0   0   0   0 150  88   0   0   0   0   0   0   0   0\n",
      "   51 200  49   0   0   0   0   0   0   0   0   0   0   0   0   0   0   2\n",
      "  186  88   0   0   0   0   0   0   0   0  56 200  10   0   0   0   0   0\n",
      "    0   0   0   0   0   0   0   0   0  29 200  72   0   0   0   0   0   0\n",
      "    0   0  56 200   5   0   0   0   0   0   0   0   0   0   0   0   0   0\n",
      "    0  85 200  28   0   0   0   0   0   0   0   0  56 200   5   0   0   0\n",
      "    0   0   0   0   0   0   0   0   0   0  17 183 179   3   0   0   0   0\n",
      "    0   0   0   0  56 200  82   0   0   0   0   0   0   0   0   0   0   0\n",
      "    0   0 128 183  98   0   0   0   0   0   0   0   0   0  30 197 198 124\n",
      "   13   0   0   0   0   0   0   0   0   0   0  72 199 164   6   0   0   0\n",
      "    0   0   0   0   0   0   0  85 198 179 173  89  22   0   0   0   0   0\n",
      "    0   0  52 196 199  42   0   0   0   0   0   0   0   0   0   0   0   0\n",
      "   52 179 173 176 200 175 136 130 102 102 102 143 199 196  94   0   0   0\n",
      "    0   0   0   0   0   0   0   0   0   0   0  12 112 176 200 175 136 130\n",
      "  158 158 158 143 199 114   1   0   0   0   0   0   0   0   0   0   0   0\n",
      "    0   0   0   0   0   0  39  85 119 126 158 158 158 136  46   0   0   0\n",
      "    0   0   0   0   0   0   0   0   0   0   0   0   0   0   0   0   0   0\n",
      "    0   0   0   0   0   0   0   0   0   0   0   0   0   0   0   0   0   0\n",
      "    0   0   0   0   0   0   0   0   0   0   0   0   0   0   0   0   0   0\n",
      "    0   0   0   0   0   0   0   0   0   0   0   0   0   0   0   0   0   0\n",
      "    0   0   0   0   0   0   0   0   0   0   0   0   0   0   0   0   0   0\n",
      "    0   0   0   0   0   0   0   0   0   0   0   0   0   0   0   0   0   0\n",
      "    0   0   0   0   0   0   0   0   0   0]]\n"
     ]
    },
    {
     "data": {
      "image/png": "[encoded data removed]",
      "text/plain": [
       "<Figure size 432x288 with 1 Axes>"
      ]
     },
     "metadata": {
      "needs_background": "light"
     },
     "output_type": "display_data"
    },
    {
     "name": "stdout",
     "output_type": "stream",
     "text": [
      "[[  0   0   0   0   0   0   0   0   0   0   0   0   0   0   0   0   0   0\n",
      "    0   0   0   0   0   0   0   0   0   0   0   0   0   0   0   0   0   0\n",
      "    0   0   0   0   0   0   0   0   0   0   0   0   0   0   0   0   0   0\n",
      "    0   0   0   0   0   0   0   0   0   0   0   0   0   0   0   0   0   0\n",
      "    0   0   0   0   0   0   0   0   0   0   0   0   0   0   0   0   0   0\n",
      "    0   0   0   0   0   0   0   0   0   0   0   0   0   0   0   0   0   0\n",
      "    0   0   0   0   0   0   0   0   0   0   0   0   0   0   0   0   0   0\n",
      "    0   0   0   0   0   0   0   0   0   0   0   0   0   0   0   0   0   0\n",
      "    0   0   0   0  48 114 150 150 150 150 150 150 132  92  32   0   0   0\n",
      "    0   0   0   0   0   0   0   0   0   0   0   0   0  42 192 189 157 150\n",
      "  150 150 150 150 172 200 199 137  10   0   0   0   0   0   0   0   0   0\n",
      "    0   0   0   0   0 147 192 189 157 122 122 122 122 147 172 200 199 196\n",
      "  170  10   0   0   0   0   0   0   0   0   0   0   0   0  19 200 185  18\n",
      "    0   0   0   0   0   0   0  27 108 196 200 112   0   0   0   0   0   0\n",
      "    0   0   0   0   0   0  96 200 108   0   0   0   0   0   0   0   0   0\n",
      "    0  81 200 191   9   0   0   0   0   0   0   0   0   0   0   0 156 198\n",
      "   37   0   0   0   0   0   0   0   0   0   0   0 139 200  33   0   0   0\n",
      "    0   0   0   0   0   0   0   0 194 156   0   0   0   0   0   0   0   0\n",
      "    0   0   0   0  78 200  33   0   0   0   0   0   0   0   0   0   0   0\n",
      "  194 117   0   0   0   0   0   0   0   0   0   0   0   0  78 200  33   0\n",
      "    0   0   0   0   0   0   0   0   0   0 194 117   0   0   0   0   0   0\n",
      "    0   0   0   0   0   0 100 200  33   0   0   0   0   0   0   0   0   0\n",
      "    0   0 194 125   0   0   0   0   0   0   0   0   0   0   0   0 148 196\n",
      "    7   0   0   0   0   0   0   0   0   0   0   0 186 181   2   0   0   0\n",
      "    0   0   0   0   0   0   0   0 165 163   0   0   0   0   0   0   0   0\n",
      "    0   0   0   0 131 200  70   0   0   0   0   0   0   0   0   0   0  16\n",
      "  197 131   0   0   0   0   0   0   0   0   0   0   0   0  80 200 178  42\n",
      "    0   0   0   0   0   0   0   0   0  60 200  98   0   0   0   0   0   0\n",
      "    0   0   0   0   0   0  12 176 183 192  71   8   0   0   0   0   0   0\n",
      "    0 106 200  46   0   0   0   0   0   0   0   0   0   0   0   0   0  36\n",
      "  183 192 200 166  68   1   0   0   0   0  10 183 200   0   0   0   0   0\n",
      "    0   0   0   0   0   0   0   0   0   0  36 163 200 178 200 149  53   0\n",
      "    0   0 111 200 143   0   0   0   0   0   0   0   0   0   0   0   0   0\n",
      "    0   0   0   2  71 178 200 187 200 198 161 165 200 200  46   0   0   0\n",
      "    0   0   0   0   0   0   0   0   0   0   0   0   0   0   0   5 104 187\n",
      "  200 198 161 165 200 140   1   0   0   0   0   0   0   0   0   0   0   0\n",
      "    0   0   0   0   0   0   0   0   0   6  66 111 145 150 117  10   0   0\n",
      "    0   0   0   0   0   0   0   0   0   0   0   0   0   0   0   0   0   0\n",
      "    0   0   0   0   0   0   0   0   0   0   0   0   0   0   0   0   0   0\n",
      "    0   0   0   0   0   0   0   0   0   0   0   0   0   0   0   0   0   0\n",
      "    0   0   0   0   0   0   0   0   0   0   0   0   0   0   0   0   0   0\n",
      "    0   0   0   0   0   0   0   0   0   0   0   0   0   0   0   0   0   0\n",
      "    0   0   0   0   0   0   0   0   0   0   0   0   0   0   0   0   0   0\n",
      "    0   0   0   0   0   0   0   0   0   0]]\n"
     ]
    },
    {
     "data": {
      "image/png": "[encoded data removed]",
      "text/plain": [
       "<Figure size 432x288 with 1 Axes>"
      ]
     },
     "metadata": {
      "needs_background": "light"
     },
     "output_type": "display_data"
    },
    {
     "name": "stdout",
     "output_type": "stream",
     "text": [
      "[[  0   0   0   0   0   0   0   0   0   0   0   0   0   0   0   0   0   0\n",
      "    0   0   0   0   0   0   0   0   0   0   0   0   0   0   0   0   0   0\n",
      "    0   0   0   0   0   0   0   0   0   0   0   0   0   0   0   0   0   0\n",
      "    0   0   0   0   0   0   0   0   0   0   0   0   0   0   0   0   0   0\n",
      "    0   0   0   0   0   0   0   0   0   0   0   0   0   0   0   0   0   0\n",
      "    0   0   0   0   0   0   0   0   0   0   0   0   0   0   0   0   0   0\n",
      "    0   0   0   0   0   0   0   0   0   0   0   0   0   0   0   0   0   0\n",
      "    0   0   0   0   0   0   0   0   0   0   0   0   0   0   0   0   0   0\n",
      "    0   0   0   0   0   0   0   0   0   0   0   0   0   0 115  59   0   0\n",
      "    0   0   0   0   0   0   0   0   0   0   0   0   0   0   0   0   0   0\n",
      "    0   0   0   0   0  29 200 127   0   0   0   0   0   0   0   0   0   0\n",
      "    0   0   0   0   0   0   0   0   0   0   0   0   0   0   0  94 200 128\n",
      "    0   0   0   0   0   0   0   0   0   0   0   0   0   0   0   0   0   0\n",
      "    0   0   0   0   0   0   1 157 200 128   0   0   0   0   0   0   0   0\n",
      "    0   0   0   0   0   0   0   0   0   0   0   0   0   0   0   0  53 200\n",
      "  200 128   0   0   0   0   0   0   0   0   0   0   0   0   0   0   0   0\n",
      "    0   0   0   0   0   0   0   8 157 200 200 125   0   0   0   0   0   0\n",
      "    0   0   0   0   0   0   0   0   0   0   0   0   0   0   0   0   1 116\n",
      "  198 200 200  89   0   0   0   0   0   0   0   0   0   0   0   0   0   0\n",
      "    0   0   0   0   0   0   0   0  77 200 198 166 200  53   0   0   0   0\n",
      "    0   0   0   0   0   0   0   0   0   0   0   0   0   0   0   0   0  45\n",
      "  199 200 126 123 200  13   0   0   0   0   0   0   0   0   0   0   0   0\n",
      "    0   0   0   0   0   0   0   1  77 191 199 146   7 170 178   2   0   0\n",
      "    0   0   0   0   0   0   0   0   0   0   0   0   0   0   0   0   1 113\n",
      "  200 191 171  13   7 188 141   0   0   0   0   0   0   0   0   0   0   0\n",
      "    0   0   0   0   0   0   0   5 113 200 200 154  21   0  17 200 101   0\n",
      "    0   0   0   0   0   0   0   0   0   0   0   0   0   0   0   0  39 171\n",
      "  200 200 113   6   0   0  36 200  94   0   0   0   0   0   0   0   0   0\n",
      "    0   0   0   0   0   0   0   0  69 171 200 113   1   0   0   0  56 200\n",
      "   67   0   0   0   0   0   0   0   0   0   0   0   0   0   0   0   0   0\n",
      "   69 169  75   1   0   0   0   0  56 200  56   0   0   0   0   0   0   0\n",
      "    0   0   0   0   0   0   0   0   0   0   0   0   0   0   0   0   0   0\n",
      "   56 200  56   0   0   0   0   0   0   0   0   0   0   0   0   0   0   0\n",
      "    0   0   0   0   0   0   0   0   0   0  56 200  56   0   0   0   0   0\n",
      "    0   0   0   0   0   0   0   0   0   0   0   0   0   0   0   0   0   0\n",
      "    0   0  56 200  56   0   0   0   0   0   0   0   0   0   0   0   0   0\n",
      "    0   0   0   0   0   0   0   0   0   0   0   0  16 141  23   0   0   0\n",
      "    0   0   0   0   0   0   0   0   0   0   0   0   0   0   0   0   0   0\n",
      "    0   0   0   0   0   0   0   0   0   0   0   0   0   0   0   0   0   0\n",
      "    0   0   0   0   0   0   0   0   0   0   0   0   0   0   0   0   0   0\n",
      "    0   0   0   0   0   0   0   0   0   0   0   0   0   0   0   0   0   0\n",
      "    0   0   0   0   0   0   0   0   0   0   0   0   0   0   0   0   0   0\n",
      "    0   0   0   0   0   0   0   0   0   0   0   0   0   0   0   0   0   0\n",
      "    0   0   0   0   0   0   0   0   0   0]]\n"
     ]
    },
    {
     "data": {
      "image/png": "[encoded data removed]",
      "text/plain": [
       "<Figure size 432x288 with 1 Axes>"
      ]
     },
     "metadata": {
      "needs_background": "light"
     },
     "output_type": "display_data"
    },
    {
     "name": "stdout",
     "output_type": "stream",
     "text": [
      "[[  0   0   0   0   0   0   0   0   0   0   0   0   0   0   0   0   0   0\n",
      "    0   0   0   0   0   0   0   0   0   0   0   0   0   0   0   0   0   0\n",
      "    0   0   0   0   0   0   0   0   0   0   0   0   0   0   0   0   0   0\n",
      "    0   0   0   0   0   0   0   0   0   0   0   0   0   0   0   0   0   0\n",
      "    0   0   0   0   0   0   0   0   0   0   0   0   0   0   0   0   0   0\n",
      "    0   0   0   0   0   0   0   0   0   0   0   0   0   0   0   0   0   0\n",
      "    0   0   0   0   0   0   0   0   0   0   0   0   0   0   0   0   0   0\n",
      "    0   0   0   0   0   0   0   0   0   0   0   0   0   0   0   0   0   0\n",
      "    0   0   0   0   0   0   0   0   0   0   0   0   0  50  67   0   0   0\n",
      "    0   0   0   0   0   0   0   0   0   0   0   0   0   0   0   0   0   0\n",
      "    0   0   0   0  11 189 133   0   0   0   0   0   0   0   0   0   0   0\n",
      "    0   0   0   0   0   0   0   0   0   0   0   0   0   0 139 200 133   0\n",
      "    0   0   0   0   0   0   0   0   0   0   0   0   0   0   0   0   0   0\n",
      "    0   0   0   0   0  67 200 200 133   0   0   0   0   0   0   0   0   0\n",
      "    0   0   0   0   0   0   0   0   0   0   0   0   0   0  33 194 200 189\n",
      "  133   0   0   0   0   0   0   0   0   0   0   0   0   0   0   0   0   0\n",
      "    0   0   0   0   0  17 178 194 106 133 133   0   0   0   0   0   0   0\n",
      "    0   0   0   0   0   0   0   0   0   0   0   0   0   0   0 156 178 144\n",
      "    6 133 133   0   0   0   0   0   0   0   0   0   0   0   0   0   0   0\n",
      "    0   0   0   0   0   0  78 194 167  11   0 133 133   0   0   0   0   0\n",
      "    0   0   0   0   0   0   0   0   0   0   0   0   0   0   0  33 189 194\n",
      "   28   0   0 133 133   0   0   0   0   0   0   0   0   0   0   0   0   0\n",
      "    0   0   0   0   0   0   6 172 189 100   0   0   0 133 133   0   0   0\n",
      "    0   0   0   0   0   0   0   0   0   0   0   0   0   0   0   0 100 189\n",
      "  144   6   0   0   0 128 167   0   0   0   0   0   0   0   0   0   0   0\n",
      "    0   0   0   0   0   0   0  28 194 189  17   0   0   0   0  94 167   0\n",
      "    0   0   0   0   0   0   0   0   0   0   0   0   0   0   0   0   0 156\n",
      "  194  83   0   0   0   0   0  67 167   0   0   0   0   0   0   0   0   0\n",
      "    0   0   0   0   0   0   0   0  17 156 161   6   0   0   0   0   0  67\n",
      "  178   0   0   0   0   0   0   0   0   0   0   0   0   0   0   0   0   0\n",
      "   17 156  33   0   0   0   0   0   0  67 200  17   0   0   0   0   0   0\n",
      "    0   0   0   0   0   0   0   0   0   0   0   0   0   0   0   0   0   0\n",
      "    0  50 200  33   0   0   0   0   0   0   0   0   0   0   0   0   0   0\n",
      "    0   0   0   0   0   0   0   0   0   0   0   6 200  33   0   0   0   0\n",
      "    0   0   0   0   0   0   0   0   0   0   0   0   0   0   0   0   0   0\n",
      "    0   0   0   0 200  33   0   0   0   0   0   0   0   0   0   0   0   0\n",
      "    0   0   0   0   0   0   0   0   0   0   0   0   0   0 150  22   0   0\n",
      "    0   0   0   0   0   0   0   0   0   0   0   0   0   0   0   0   0   0\n",
      "    0   0   0   0   0   0   0   0   0   0   0   0   0   0   0   0   0   0\n",
      "    0   0   0   0   0   0   0   0   0   0   0   0   0   0   0   0   0   0\n",
      "    0   0   0   0   0   0   0   0   0   0   0   0   0   0   0   0   0   0\n",
      "    0   0   0   0   0   0   0   0   0   0   0   0   0   0   0   0   0   0\n",
      "    0   0   0   0   0   0   0   0   0   0   0   0   0   0   0   0   0   0\n",
      "    0   0   0   0   0   0   0   0   0   0]]\n"
     ]
    }
   ],
   "source": [
    "for rect in rects:\n",
    "    # if (rect[2])>130 and (rect[3])>130:\n",
    "    cv2.rectangle(image,(rect[0],rect[1]),(rect[2]+rect[0],rect[3]+rect[1]),(0,255,0),15)\n",
    "    len = int(rect[3]*1.6)\n",
    "    pt1 = int(rect[1]+rect[3]//2-len//2)\n",
    "    pt2 = int(rect[0]+rect[2]//2-len//2)\n",
    "    roi = im_th[pt1:pt1+len,pt2:pt2+len]\n",
    "    roi = cv2.resize(roi,(28,28),interpolation=cv2.INTER_AREA)\n",
    "    roi = cv2.dilate(roi,(3,3))\n",
    "    roi_r =np.array([roi]).reshape(1,28*28)\n",
    "    \n",
    "    plt.imshow(roi)\n",
    "    plt.axis('off')\n",
    "    plt.show()\n",
    "        \n",
    "    print (roi_r)"
   ]
  },
  {
   "cell_type": "code",
   "execution_count": null,
   "metadata": {},
   "outputs": [],
   "source": []
  }
 ],
 "metadata": {
  "kernelspec": {
   "display_name": "Python 3",
   "language": "python",
   "name": "python3"
  },
  "language_info": {
   "codemirror_mode": {
    "name": "ipython",
    "version": 3
   },
   "file_extension": ".py",
   "mimetype": "text/x-python",
   "name": "python",
   "nbconvert_exporter": "python",
   "pygments_lexer": "ipython3",
   "version": "3.6.8"
  }
 },
 "nbformat": 4,
 "nbformat_minor": 2
}
